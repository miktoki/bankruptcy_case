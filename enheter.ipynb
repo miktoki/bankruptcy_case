{
 "cells": [
  {
   "attachments": {},
   "cell_type": "markdown",
   "id": "d7ff38a8",
   "metadata": {},
   "source": [
    "# Enhetsregisteret\n",
    "Norskregistrerte Enheter i enhetsregisteret blir hentet ut med:\n",
    "\n",
    "- tilhørende kommune,\n",
    "- næringskode og \n",
    "- info om avvikling og konkurs.\n",
    "\n",
    "Merk: konkursinformasjon ligger kun ute i 3 år for AS og 1 år for ENK"
   ]
  },
  {
   "cell_type": "code",
   "execution_count": 12,
   "id": "c9d7d37b",
   "metadata": {},
   "outputs": [],
   "source": [
    "import pandas as pd\n",
    "import numpy as np\n",
    "import requests\n",
    "from typing import Callable, Any, Sequence\n",
    "import json\n",
    "import gzip\n",
    "from datetime import datetime, date"
   ]
  },
  {
   "cell_type": "code",
   "execution_count": 2,
   "id": "66fea9be",
   "metadata": {},
   "outputs": [],
   "source": [
    "# ENH_BASE = \"https://data.brreg.no/enhetsregisteret/api/enheter\" # for å gjøre queries\n",
    "ENH_BASE = \"https://data.brreg.no/enhetsregisteret/oppslag/enheter/lastned\" # for å hente ned hele datasettet\n",
    "# Dokumentasjon: https://data.brreg.no/fullmakt/docs/index.html\n",
    "\n",
    "def gzip_json_to_dataframe(url: str, cols: list, accessor: Callable[[dict], Sequence], predicate: Callable[[dict], bool]) -> pd.DataFrame:\n",
    "    json_data = json.loads(\n",
    "        gzip.decompress(\n",
    "            requests.get(url).content\n",
    "        )\n",
    "    )\n",
    "    # assume json_data is a list of dicts\n",
    "    itr = (accessor(d) for d in json_data if predicate(d))\n",
    "    return pd.DataFrame(itr, columns=cols)\n"
   ]
  },
  {
   "cell_type": "code",
   "execution_count": 48,
   "id": "175020d3",
   "metadata": {},
   "outputs": [],
   "source": [
    "cols = [\n",
    "    'organisasjonsnummer',\n",
    "    'organisasjonsform',\n",
    "    'navn',\n",
    "    'kommune',\n",
    "    'kommunenummer',\n",
    "    'stiftelsesdato',\n",
    "    'konkurs',\n",
    "    'underAvvikling',\n",
    "    'underTvangsavviklingEllerTvangsopplosning',\n",
    "    'naeringskode1',\n",
    "    'naeringskode2',\n",
    "    'naeringskode3'\n",
    "]\n",
    "\n",
    "MIN_DATE = np.datetime64('1900-01-01')\n",
    "def enhetsdata(d: dict) -> tuple|None:\n",
    "    addr = d.get('forretningsadresse') or d.get('postadresse')\n",
    "    ncode = [d.get(f\"naeringskode{i}\", {}).get('kode') for i in range(1,4)]\n",
    "    date_ = np.datetime64(d.get('stiftelsesdato') or d['registreringsdatoEnhetsregisteret'])\n",
    "    # try:\n",
    "    return (\n",
    "        d['organisasjonsnummer'],\n",
    "        d['organisasjonsform']['kode'],\n",
    "        d['navn'],\n",
    "        addr['kommune'], \n",
    "        addr['kommunenummer'],\n",
    "        max(date_, MIN_DATE), # pandas timestamp har begrenset støtte for datoer <= 1677-09-21\n",
    "        d['konkurs'],\n",
    "        d['underAvvikling'],\n",
    "        d['underTvangsavviklingEllerTvangsopplosning'],\n",
    "        *ncode\n",
    "    )\n",
    "    # except (KeyError, TypeError):\n",
    "    #     print(json.dumps(d, indent=4))\n",
    "    #     raise\n",
    "\n",
    "def is_valid(d):\n",
    "    addr = d.get('forretningsadresse') or d.get('postadresse')\n",
    "    return (\n",
    "        addr['landkode']=='NO' and # ikke utenlandsk\n",
    "        'naeringskode1' in d # minst 1 næringskode \n",
    "    )"
   ]
  },
  {
   "cell_type": "code",
   "execution_count": 49,
   "id": "b04d6cc6",
   "metadata": {},
   "outputs": [],
   "source": [
    "df = gzip_json_to_dataframe(ENH_BASE, cols, enhetsdata, is_valid)"
   ]
  },
  {
   "cell_type": "code",
   "execution_count": 51,
   "id": "5c069a62",
   "metadata": {},
   "outputs": [],
   "source": [
    "df.to_parquet('data/enheter.parquet')"
   ]
  }
 ],
 "metadata": {
  "kernelspec": {
   "display_name": "env",
   "language": "python",
   "name": "python3"
  },
  "language_info": {
   "codemirror_mode": {
    "name": "ipython",
    "version": 3
   },
   "file_extension": ".py",
   "mimetype": "text/x-python",
   "name": "python",
   "nbconvert_exporter": "python",
   "pygments_lexer": "ipython3",
   "version": "3.11.3"
  }
 },
 "nbformat": 4,
 "nbformat_minor": 5
}
