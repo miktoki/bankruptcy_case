{
 "cells": [
  {
   "cell_type": "code",
   "execution_count": 1,
   "metadata": {},
   "outputs": [],
   "source": [
    "import requests\n",
    "import pandas as pd\n",
    "from datetime import datetime, date"
   ]
  },
  {
   "cell_type": "code",
   "execution_count": 2,
   "metadata": {},
   "outputs": [],
   "source": [
    "fmt = \"csv\"\n",
    "request_date = date(2023, 5, 23)\n",
    "NAERINGSKODE_URL = f\"http://data.ssb.no/api/klass/v1/classifications/6/codesAt.{fmt}?date={request_date}\"\n",
    "\n",
    "naeringskoder = requests.get(NAERINGSKODE_URL, )"
   ]
  },
  {
   "cell_type": "code",
   "execution_count": 3,
   "metadata": {},
   "outputs": [],
   "source": [
    "df = pd.read_csv(NAERINGSKODE_URL, encoding='ISO-8859-1', usecols=['code', 'level', 'shortName'])\n",
    "df = df[df.level==2]"
   ]
  },
  {
   "cell_type": "code",
   "execution_count": 4,
   "metadata": {},
   "outputs": [
    {
     "data": {
      "text/html": [
       "<div>\n",
       "<style scoped>\n",
       "    .dataframe tbody tr th:only-of-type {\n",
       "        vertical-align: middle;\n",
       "    }\n",
       "\n",
       "    .dataframe tbody tr th {\n",
       "        vertical-align: top;\n",
       "    }\n",
       "\n",
       "    .dataframe thead th {\n",
       "        text-align: right;\n",
       "    }\n",
       "</style>\n",
       "<table border=\"1\" class=\"dataframe\">\n",
       "  <thead>\n",
       "    <tr style=\"text-align: right;\">\n",
       "      <th></th>\n",
       "      <th>code</th>\n",
       "      <th>level</th>\n",
       "      <th>shortName</th>\n",
       "    </tr>\n",
       "  </thead>\n",
       "  <tbody>\n",
       "    <tr>\n",
       "      <th>0</th>\n",
       "      <td>01</td>\n",
       "      <td>2</td>\n",
       "      <td>Jordbruk, tilhør. tjenester, jakt</td>\n",
       "    </tr>\n",
       "    <tr>\n",
       "      <th>72</th>\n",
       "      <td>02</td>\n",
       "      <td>2</td>\n",
       "      <td>Skogbruk og tilhørende tjenester</td>\n",
       "    </tr>\n",
       "    <tr>\n",
       "      <th>85</th>\n",
       "      <td>03</td>\n",
       "      <td>2</td>\n",
       "      <td>Fiske, fangst og akvakultur</td>\n",
       "    </tr>\n",
       "    <tr>\n",
       "      <th>101</th>\n",
       "      <td>05</td>\n",
       "      <td>2</td>\n",
       "      <td>Bryting av steinkull og brunkull</td>\n",
       "    </tr>\n",
       "    <tr>\n",
       "      <th>108</th>\n",
       "      <td>06</td>\n",
       "      <td>2</td>\n",
       "      <td>Utvinning av råolje og naturgass</td>\n",
       "    </tr>\n",
       "  </tbody>\n",
       "</table>\n",
       "</div>"
      ],
      "text/plain": [
       "    code  level                          shortName\n",
       "0     01      2  Jordbruk, tilhør. tjenester, jakt\n",
       "72    02      2   Skogbruk og tilhørende tjenester\n",
       "85    03      2        Fiske, fangst og akvakultur\n",
       "101   05      2   Bryting av steinkull og brunkull\n",
       "108   06      2   Utvinning av råolje og naturgass"
      ]
     },
     "execution_count": 4,
     "metadata": {},
     "output_type": "execute_result"
    }
   ],
   "source": [
    "df.head()"
   ]
  },
  {
   "cell_type": "code",
   "execution_count": 5,
   "metadata": {},
   "outputs": [],
   "source": [
    "df.to_parquet('data/naeringskoder.parquet')"
   ]
  }
 ],
 "metadata": {
  "kernelspec": {
   "display_name": "env",
   "language": "python",
   "name": "python3"
  },
  "language_info": {
   "codemirror_mode": {
    "name": "ipython",
    "version": 3
   },
   "file_extension": ".py",
   "mimetype": "text/x-python",
   "name": "python",
   "nbconvert_exporter": "python",
   "pygments_lexer": "ipython3",
   "version": "3.11.3"
  },
  "orig_nbformat": 4
 },
 "nbformat": 4,
 "nbformat_minor": 2
}
